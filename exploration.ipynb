{
 "cells": [
  {
   "cell_type": "code",
   "id": "initial_id",
   "metadata": {
    "collapsed": true,
    "ExecuteTime": {
     "end_time": "2024-11-24T06:37:56.814823Z",
     "start_time": "2024-11-24T06:37:56.639955Z"
    }
   },
   "source": "import pandas as pd",
   "outputs": [],
   "execution_count": 1
  },
  {
   "metadata": {
    "ExecuteTime": {
     "end_time": "2024-11-23T07:22:05.424355Z",
     "start_time": "2024-11-23T07:22:05.376399Z"
    }
   },
   "cell_type": "code",
   "source": "data_source = pd.ExcelFile(\"./meta_data/DataSet.xlsx\")",
   "id": "d3c473baff7cfdf6",
   "outputs": [],
   "execution_count": 14
  },
  {
   "metadata": {
    "ExecuteTime": {
     "end_time": "2024-11-23T07:22:05.658946Z",
     "start_time": "2024-11-23T07:22:05.619244Z"
    }
   },
   "cell_type": "code",
   "source": "sheet_data = data_source.parse(\"train_data\")",
   "id": "6ddcb7d032c8b92d",
   "outputs": [],
   "execution_count": 15
  },
  {
   "metadata": {
    "ExecuteTime": {
     "end_time": "2024-11-23T07:22:13.384866Z",
     "start_time": "2024-11-23T07:22:13.381433Z"
    }
   },
   "cell_type": "code",
   "source": "sheet_data.shape",
   "id": "8bf4f31ac2ef204",
   "outputs": [
    {
     "data": {
      "text/plain": [
       "(2570, 2)"
      ]
     },
     "execution_count": 16,
     "metadata": {},
     "output_type": "execute_result"
    }
   ],
   "execution_count": 16
  },
  {
   "metadata": {
    "ExecuteTime": {
     "end_time": "2024-11-23T07:22:15.185889Z",
     "start_time": "2024-11-23T07:22:15.181253Z"
    }
   },
   "cell_type": "code",
   "source": "sheet_data = sheet_data[sheet_data[\"datasheet_link\"].str.len()>1]",
   "id": "14e42f91fb8589b0",
   "outputs": [],
   "execution_count": 17
  },
  {
   "metadata": {
    "ExecuteTime": {
     "end_time": "2024-11-23T07:22:15.727805Z",
     "start_time": "2024-11-23T07:22:15.723756Z"
    }
   },
   "cell_type": "code",
   "source": "sheet_data",
   "id": "487304e93952b99f",
   "outputs": [
    {
     "data": {
      "text/plain": [
       "                                         datasheet_link target_col\n",
       "0     https://lfillumination.com/files/specsheets/EF...   lighting\n",
       "1     https://lfillumination.com/files/specsheets/EF...   lighting\n",
       "2     https://lfillumination.com/files/specsheets/EF...   lighting\n",
       "3     https://www.waclighting.com/storage/waclightin...   lighting\n",
       "4     https://www.acuitybrands.com/api/products/geta...   lighting\n",
       "...                                                 ...        ...\n",
       "2565  https://www.memoryprotectiondevices.com/datash...     others\n",
       "2566  https://www.memoryprotectiondevices.com/datash...     others\n",
       "2567  https://www.memoryprotectiondevices.com/datash...     others\n",
       "2568  http://www.switchcomp.com/switchcomp_ecommerce...     others\n",
       "2569  http://www.switchcomp.com/switchcomp_ecommerce...     others\n",
       "\n",
       "[2508 rows x 2 columns]"
      ],
      "text/html": [
       "<div>\n",
       "<style scoped>\n",
       "    .dataframe tbody tr th:only-of-type {\n",
       "        vertical-align: middle;\n",
       "    }\n",
       "\n",
       "    .dataframe tbody tr th {\n",
       "        vertical-align: top;\n",
       "    }\n",
       "\n",
       "    .dataframe thead th {\n",
       "        text-align: right;\n",
       "    }\n",
       "</style>\n",
       "<table border=\"1\" class=\"dataframe\">\n",
       "  <thead>\n",
       "    <tr style=\"text-align: right;\">\n",
       "      <th></th>\n",
       "      <th>datasheet_link</th>\n",
       "      <th>target_col</th>\n",
       "    </tr>\n",
       "  </thead>\n",
       "  <tbody>\n",
       "    <tr>\n",
       "      <th>0</th>\n",
       "      <td>https://lfillumination.com/files/specsheets/EF...</td>\n",
       "      <td>lighting</td>\n",
       "    </tr>\n",
       "    <tr>\n",
       "      <th>1</th>\n",
       "      <td>https://lfillumination.com/files/specsheets/EF...</td>\n",
       "      <td>lighting</td>\n",
       "    </tr>\n",
       "    <tr>\n",
       "      <th>2</th>\n",
       "      <td>https://lfillumination.com/files/specsheets/EF...</td>\n",
       "      <td>lighting</td>\n",
       "    </tr>\n",
       "    <tr>\n",
       "      <th>3</th>\n",
       "      <td>https://www.waclighting.com/storage/waclightin...</td>\n",
       "      <td>lighting</td>\n",
       "    </tr>\n",
       "    <tr>\n",
       "      <th>4</th>\n",
       "      <td>https://www.acuitybrands.com/api/products/geta...</td>\n",
       "      <td>lighting</td>\n",
       "    </tr>\n",
       "    <tr>\n",
       "      <th>...</th>\n",
       "      <td>...</td>\n",
       "      <td>...</td>\n",
       "    </tr>\n",
       "    <tr>\n",
       "      <th>2565</th>\n",
       "      <td>https://www.memoryprotectiondevices.com/datash...</td>\n",
       "      <td>others</td>\n",
       "    </tr>\n",
       "    <tr>\n",
       "      <th>2566</th>\n",
       "      <td>https://www.memoryprotectiondevices.com/datash...</td>\n",
       "      <td>others</td>\n",
       "    </tr>\n",
       "    <tr>\n",
       "      <th>2567</th>\n",
       "      <td>https://www.memoryprotectiondevices.com/datash...</td>\n",
       "      <td>others</td>\n",
       "    </tr>\n",
       "    <tr>\n",
       "      <th>2568</th>\n",
       "      <td>http://www.switchcomp.com/switchcomp_ecommerce...</td>\n",
       "      <td>others</td>\n",
       "    </tr>\n",
       "    <tr>\n",
       "      <th>2569</th>\n",
       "      <td>http://www.switchcomp.com/switchcomp_ecommerce...</td>\n",
       "      <td>others</td>\n",
       "    </tr>\n",
       "  </tbody>\n",
       "</table>\n",
       "<p>2508 rows × 2 columns</p>\n",
       "</div>"
      ]
     },
     "execution_count": 18,
     "metadata": {},
     "output_type": "execute_result"
    }
   ],
   "execution_count": 18
  },
  {
   "metadata": {
    "ExecuteTime": {
     "end_time": "2024-11-23T07:22:19.779873Z",
     "start_time": "2024-11-23T07:22:19.777049Z"
    }
   },
   "cell_type": "code",
   "source": "sheet_data.shape",
   "id": "5e614ee0244476f7",
   "outputs": [
    {
     "data": {
      "text/plain": [
       "(2508, 2)"
      ]
     },
     "execution_count": 19,
     "metadata": {},
     "output_type": "execute_result"
    }
   ],
   "execution_count": 19
  },
  {
   "metadata": {
    "ExecuteTime": {
     "end_time": "2024-11-23T09:08:57.051497Z",
     "start_time": "2024-11-23T09:08:57.017054Z"
    }
   },
   "cell_type": "code",
   "source": "from pypdf import PdfReader",
   "id": "2996bbbb4fdf6689",
   "outputs": [],
   "execution_count": 32
  },
  {
   "metadata": {
    "ExecuteTime": {
     "end_time": "2024-11-23T09:09:15.381453Z",
     "start_time": "2024-11-23T09:09:15.366177Z"
    }
   },
   "cell_type": "code",
   "source": "reader = PdfReader(\"./data_foundation/raw/train_data/cable/0-uf-coax-cables-datasheet.pdf\")",
   "id": "b295357f9c95bea5",
   "outputs": [],
   "execution_count": 34
  },
  {
   "metadata": {
    "ExecuteTime": {
     "end_time": "2024-11-23T09:09:51.461826Z",
     "start_time": "2024-11-23T09:09:51.114561Z"
    }
   },
   "cell_type": "code",
   "source": "reader.get_page(0).extract_text()",
   "id": "3515d54d2889a920",
   "outputs": [
    {
     "data": {
      "text/plain": [
       "'LMR®-400-UF\\nFLEXIBLE LOW LOSS CABLE ASSEMBLIES\\nTimes LMR cable assemblies are high\\nperformance broadband, flexible, low-loss RF\\ncoaxial cables that can be used virtually\\nanywhere, either indoors or outdoors. As a\\ncompletely Times manufactured solution,\\nperformance and reliability are assured.\\n• Antenna feeder runs\\n• Inter/intra cabinet jumpers\\n• Internal component  \\nequipment wiring\\n• GPS system wiring\\nKEY APPLICATIONS\\nFEATURES\\n• Excellent RF Shielding, better than 90 dB\\n•  UV and weather resistant\\n• Flexible and easy to use\\n \\nImpedance \\nMaximum Frequency  \\nCapacitance \\nVelocity of Propagation  \\nDelay \\nShielding \\nVoltage Withstand\\nJacket Spark\\nElectrical Properties\\n \\nDiameter  \\nWeight  \\nMinimum Bend Radius  \\nOperating T emperature \\nT ensile Strength  \\nBending Moment   \\nFlat Plate Crush\\nStorage T emp \\nMechanical Properties\\ndB/ft\\n0.05\\n0.08\\n0.13\\ndB/m\\n(0.16)\\n(0.26)\\n(0.43)\\nAttenuation\\n900 MHz\\n2.5 GHz\\n5.8 GHz\\nUnits    \\nin (mm)   0.405   (10.287) \\nlb/ft (kg/m )  0.088    (0.131)  \\nin(mm)    1.00      (25.4) \\n °F (°C)           -40° to 185°(-40 to 85)       \\n lb (kg)   160 (72.6) \\n ft lb (N-m)   0.375 (0.51) \\n lb/in (kg/mm)   20  (0.36)  \\n °F (°C)    -94 to 185 (-70 to 85)  \\nUnits    \\nΩ    50 +/- 2 \\nGHz    6.0 \\npF/ft (pF/m)     23.9  (78.4 )         \\n   80%\\nns/ft (ns/m)  1.20   (3.94)  \\n   >90dB minimum \\n Volts DC   2500  \\n Volts RMS  8000  \\n1 2 3 4 5\\nInner Conductor Stranded BC \\nDielectric   Foam PE\\nOuter Conductor    Aluminum Tape \\nOverall Braid  Tinned Copper\\nJacket    TPR\\n1\\n2\\n3\\n4\\n5'"
      ]
     },
     "execution_count": 36,
     "metadata": {},
     "output_type": "execute_result"
    }
   ],
   "execution_count": 36
  },
  {
   "metadata": {
    "ExecuteTime": {
     "end_time": "2024-11-24T12:09:34.071582Z",
     "start_time": "2024-11-24T12:09:34.048053Z"
    }
   },
   "cell_type": "code",
   "source": "df = pd.read_parquet(\"./data_foundation/curated/curated_dataset.parquet\")",
   "id": "994972075797d81f",
   "outputs": [],
   "execution_count": 4
  },
  {
   "metadata": {
    "ExecuteTime": {
     "end_time": "2024-11-24T12:09:34.386170Z",
     "start_time": "2024-11-24T12:09:34.379408Z"
    }
   },
   "cell_type": "code",
   "source": "df\n",
   "id": "b7872413be3c3bb4",
   "outputs": [
    {
     "data": {
      "text/plain": [
       "                                                   text class_name  \\\n",
       "0     \\n132\\n\\nAccessories \\n\\nFinger Guards\\n\\nFilt...     others   \n",
       "1     \\nMOLDING MATERIALS – THERMOPLASTICS\\nMaterial...     others   \n",
       "2     \\nRivets\\n\\nMaterial:\\nColor:\\nFire Resistance...     others   \n",
       "3     \\n– Material: Housing made of thermoplastic re...     others   \n",
       "4     \\nD\\n\\nC\\n\\nB\\n\\nA\\n\\n1\\n\\n2\\n\\n3\\n\\nREVISIONS...     others   \n",
       "...                                                 ...        ...   \n",
       "1365  \\n272/273/274/278/279 Series, MICRO™ Very Fast...      fuses   \n",
       "1366  \\n*RoH S C O M PLIA NT\\n**H ALO GEN FREE\\n\\n&\\...      fuses   \n",
       "1367  \\n Type C1Q \\nSurface Mount Very Fast-Acting C...      fuses   \n",
       "1368  \\nFuses\\nhttps://www.schurter.com /PG01_2\\n\\nM...      fuses   \n",
       "1369  \\nFuses\\nhttps://www.schurter.com /PG01_2\\n\\nO...      fuses   \n",
       "\n",
       "     dataset_type                                           filename  \n",
       "0       test_data  ./data_foundation/raw/test_data/others/es%2CFi...  \n",
       "1       test_data  ./data_foundation/raw/test_data/others/amp-mat...  \n",
       "2       test_data  ./data_foundation/raw/test_data/others/ccessor...  \n",
       "3       test_data  ./data_foundation/raw/test_data/others/edias-d...  \n",
       "4       test_data  ./data_foundation/raw/test_data/others/-a-r-f-...  \n",
       "...           ...                                                ...  \n",
       "1365   train_data  ./data_foundation/raw/train_data/fuses/_273_27...  \n",
       "1366   train_data  ./data_foundation/raw/train_data/fuses/uct-dat...  \n",
       "1367   train_data  ./data_foundation/raw/train_data/fuses/rotecti...  \n",
       "1368   train_data  ./data_foundation/raw/train_data/fuses/r.com-e...  \n",
       "1369   train_data  ./data_foundation/raw/train_data/fuses/m-en-da...  \n",
       "\n",
       "[1370 rows x 4 columns]"
      ],
      "text/html": [
       "<div>\n",
       "<style scoped>\n",
       "    .dataframe tbody tr th:only-of-type {\n",
       "        vertical-align: middle;\n",
       "    }\n",
       "\n",
       "    .dataframe tbody tr th {\n",
       "        vertical-align: top;\n",
       "    }\n",
       "\n",
       "    .dataframe thead th {\n",
       "        text-align: right;\n",
       "    }\n",
       "</style>\n",
       "<table border=\"1\" class=\"dataframe\">\n",
       "  <thead>\n",
       "    <tr style=\"text-align: right;\">\n",
       "      <th></th>\n",
       "      <th>text</th>\n",
       "      <th>class_name</th>\n",
       "      <th>dataset_type</th>\n",
       "      <th>filename</th>\n",
       "    </tr>\n",
       "  </thead>\n",
       "  <tbody>\n",
       "    <tr>\n",
       "      <th>0</th>\n",
       "      <td>\\n132\\n\\nAccessories \\n\\nFinger Guards\\n\\nFilt...</td>\n",
       "      <td>others</td>\n",
       "      <td>test_data</td>\n",
       "      <td>./data_foundation/raw/test_data/others/es%2CFi...</td>\n",
       "    </tr>\n",
       "    <tr>\n",
       "      <th>1</th>\n",
       "      <td>\\nMOLDING MATERIALS – THERMOPLASTICS\\nMaterial...</td>\n",
       "      <td>others</td>\n",
       "      <td>test_data</td>\n",
       "      <td>./data_foundation/raw/test_data/others/amp-mat...</td>\n",
       "    </tr>\n",
       "    <tr>\n",
       "      <th>2</th>\n",
       "      <td>\\nRivets\\n\\nMaterial:\\nColor:\\nFire Resistance...</td>\n",
       "      <td>others</td>\n",
       "      <td>test_data</td>\n",
       "      <td>./data_foundation/raw/test_data/others/ccessor...</td>\n",
       "    </tr>\n",
       "    <tr>\n",
       "      <th>3</th>\n",
       "      <td>\\n– Material: Housing made of thermoplastic re...</td>\n",
       "      <td>others</td>\n",
       "      <td>test_data</td>\n",
       "      <td>./data_foundation/raw/test_data/others/edias-d...</td>\n",
       "    </tr>\n",
       "    <tr>\n",
       "      <th>4</th>\n",
       "      <td>\\nD\\n\\nC\\n\\nB\\n\\nA\\n\\n1\\n\\n2\\n\\n3\\n\\nREVISIONS...</td>\n",
       "      <td>others</td>\n",
       "      <td>test_data</td>\n",
       "      <td>./data_foundation/raw/test_data/others/-a-r-f-...</td>\n",
       "    </tr>\n",
       "    <tr>\n",
       "      <th>...</th>\n",
       "      <td>...</td>\n",
       "      <td>...</td>\n",
       "      <td>...</td>\n",
       "      <td>...</td>\n",
       "    </tr>\n",
       "    <tr>\n",
       "      <th>1365</th>\n",
       "      <td>\\n272/273/274/278/279 Series, MICRO™ Very Fast...</td>\n",
       "      <td>fuses</td>\n",
       "      <td>train_data</td>\n",
       "      <td>./data_foundation/raw/train_data/fuses/_273_27...</td>\n",
       "    </tr>\n",
       "    <tr>\n",
       "      <th>1366</th>\n",
       "      <td>\\n*RoH S C O M PLIA NT\\n**H ALO GEN FREE\\n\\n&amp;\\...</td>\n",
       "      <td>fuses</td>\n",
       "      <td>train_data</td>\n",
       "      <td>./data_foundation/raw/train_data/fuses/uct-dat...</td>\n",
       "    </tr>\n",
       "    <tr>\n",
       "      <th>1367</th>\n",
       "      <td>\\n Type C1Q \\nSurface Mount Very Fast-Acting C...</td>\n",
       "      <td>fuses</td>\n",
       "      <td>train_data</td>\n",
       "      <td>./data_foundation/raw/train_data/fuses/rotecti...</td>\n",
       "    </tr>\n",
       "    <tr>\n",
       "      <th>1368</th>\n",
       "      <td>\\nFuses\\nhttps://www.schurter.com /PG01_2\\n\\nM...</td>\n",
       "      <td>fuses</td>\n",
       "      <td>train_data</td>\n",
       "      <td>./data_foundation/raw/train_data/fuses/r.com-e...</td>\n",
       "    </tr>\n",
       "    <tr>\n",
       "      <th>1369</th>\n",
       "      <td>\\nFuses\\nhttps://www.schurter.com /PG01_2\\n\\nO...</td>\n",
       "      <td>fuses</td>\n",
       "      <td>train_data</td>\n",
       "      <td>./data_foundation/raw/train_data/fuses/m-en-da...</td>\n",
       "    </tr>\n",
       "  </tbody>\n",
       "</table>\n",
       "<p>1370 rows × 4 columns</p>\n",
       "</div>"
      ]
     },
     "execution_count": 5,
     "metadata": {},
     "output_type": "execute_result"
    }
   ],
   "execution_count": 5
  },
  {
   "metadata": {
    "ExecuteTime": {
     "end_time": "2024-11-24T12:10:26.800132Z",
     "start_time": "2024-11-24T12:10:26.794097Z"
    }
   },
   "cell_type": "code",
   "source": [
    "df.head(\n",
    "\n",
    ")"
   ],
   "id": "25895ccdf368d05a",
   "outputs": [
    {
     "data": {
      "text/plain": [
       "                                                text class_name dataset_type  \\\n",
       "0  \\n132\\n\\nAccessories \\n\\nFinger Guards\\n\\nFilt...     others    test_data   \n",
       "1  \\nMOLDING MATERIALS – THERMOPLASTICS\\nMaterial...     others    test_data   \n",
       "2  \\nRivets\\n\\nMaterial:\\nColor:\\nFire Resistance...     others    test_data   \n",
       "3  \\n– Material: Housing made of thermoplastic re...     others    test_data   \n",
       "4  \\nD\\n\\nC\\n\\nB\\n\\nA\\n\\n1\\n\\n2\\n\\n3\\n\\nREVISIONS...     others    test_data   \n",
       "\n",
       "                                            filename  \n",
       "0  ./data_foundation/raw/test_data/others/es%2CFi...  \n",
       "1  ./data_foundation/raw/test_data/others/amp-mat...  \n",
       "2  ./data_foundation/raw/test_data/others/ccessor...  \n",
       "3  ./data_foundation/raw/test_data/others/edias-d...  \n",
       "4  ./data_foundation/raw/test_data/others/-a-r-f-...  "
      ],
      "text/html": [
       "<div>\n",
       "<style scoped>\n",
       "    .dataframe tbody tr th:only-of-type {\n",
       "        vertical-align: middle;\n",
       "    }\n",
       "\n",
       "    .dataframe tbody tr th {\n",
       "        vertical-align: top;\n",
       "    }\n",
       "\n",
       "    .dataframe thead th {\n",
       "        text-align: right;\n",
       "    }\n",
       "</style>\n",
       "<table border=\"1\" class=\"dataframe\">\n",
       "  <thead>\n",
       "    <tr style=\"text-align: right;\">\n",
       "      <th></th>\n",
       "      <th>text</th>\n",
       "      <th>class_name</th>\n",
       "      <th>dataset_type</th>\n",
       "      <th>filename</th>\n",
       "    </tr>\n",
       "  </thead>\n",
       "  <tbody>\n",
       "    <tr>\n",
       "      <th>0</th>\n",
       "      <td>\\n132\\n\\nAccessories \\n\\nFinger Guards\\n\\nFilt...</td>\n",
       "      <td>others</td>\n",
       "      <td>test_data</td>\n",
       "      <td>./data_foundation/raw/test_data/others/es%2CFi...</td>\n",
       "    </tr>\n",
       "    <tr>\n",
       "      <th>1</th>\n",
       "      <td>\\nMOLDING MATERIALS – THERMOPLASTICS\\nMaterial...</td>\n",
       "      <td>others</td>\n",
       "      <td>test_data</td>\n",
       "      <td>./data_foundation/raw/test_data/others/amp-mat...</td>\n",
       "    </tr>\n",
       "    <tr>\n",
       "      <th>2</th>\n",
       "      <td>\\nRivets\\n\\nMaterial:\\nColor:\\nFire Resistance...</td>\n",
       "      <td>others</td>\n",
       "      <td>test_data</td>\n",
       "      <td>./data_foundation/raw/test_data/others/ccessor...</td>\n",
       "    </tr>\n",
       "    <tr>\n",
       "      <th>3</th>\n",
       "      <td>\\n– Material: Housing made of thermoplastic re...</td>\n",
       "      <td>others</td>\n",
       "      <td>test_data</td>\n",
       "      <td>./data_foundation/raw/test_data/others/edias-d...</td>\n",
       "    </tr>\n",
       "    <tr>\n",
       "      <th>4</th>\n",
       "      <td>\\nD\\n\\nC\\n\\nB\\n\\nA\\n\\n1\\n\\n2\\n\\n3\\n\\nREVISIONS...</td>\n",
       "      <td>others</td>\n",
       "      <td>test_data</td>\n",
       "      <td>./data_foundation/raw/test_data/others/-a-r-f-...</td>\n",
       "    </tr>\n",
       "  </tbody>\n",
       "</table>\n",
       "</div>"
      ]
     },
     "execution_count": 6,
     "metadata": {},
     "output_type": "execute_result"
    }
   ],
   "execution_count": 6
  },
  {
   "metadata": {},
   "cell_type": "code",
   "outputs": [],
   "execution_count": null,
   "source": "",
   "id": "c1959069abd3b54f"
  }
 ],
 "metadata": {
  "kernelspec": {
   "display_name": "Python 3",
   "language": "python",
   "name": "python3"
  },
  "language_info": {
   "codemirror_mode": {
    "name": "ipython",
    "version": 2
   },
   "file_extension": ".py",
   "mimetype": "text/x-python",
   "name": "python",
   "nbconvert_exporter": "python",
   "pygments_lexer": "ipython2",
   "version": "2.7.6"
  }
 },
 "nbformat": 4,
 "nbformat_minor": 5
}
