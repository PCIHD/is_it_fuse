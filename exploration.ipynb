{
 "cells": [
  {
   "cell_type": "code",
   "id": "initial_id",
   "metadata": {
    "collapsed": true,
    "ExecuteTime": {
     "end_time": "2024-11-23T07:22:05.101648Z",
     "start_time": "2024-11-23T07:22:05.099551Z"
    }
   },
   "source": "import pandas as pd",
   "outputs": [],
   "execution_count": 13
  },
  {
   "metadata": {
    "ExecuteTime": {
     "end_time": "2024-11-23T07:22:05.424355Z",
     "start_time": "2024-11-23T07:22:05.376399Z"
    }
   },
   "cell_type": "code",
   "source": "data_source = pd.ExcelFile(\"./meta_data/DataSet.xlsx\")",
   "id": "d3c473baff7cfdf6",
   "outputs": [],
   "execution_count": 14
  },
  {
   "metadata": {
    "ExecuteTime": {
     "end_time": "2024-11-23T07:22:05.658946Z",
     "start_time": "2024-11-23T07:22:05.619244Z"
    }
   },
   "cell_type": "code",
   "source": "sheet_data = data_source.parse(\"train_data\")",
   "id": "6ddcb7d032c8b92d",
   "outputs": [],
   "execution_count": 15
  },
  {
   "metadata": {
    "ExecuteTime": {
     "end_time": "2024-11-23T07:22:13.384866Z",
     "start_time": "2024-11-23T07:22:13.381433Z"
    }
   },
   "cell_type": "code",
   "source": "sheet_data.shape",
   "id": "8bf4f31ac2ef204",
   "outputs": [
    {
     "data": {
      "text/plain": [
       "(2570, 2)"
      ]
     },
     "execution_count": 16,
     "metadata": {},
     "output_type": "execute_result"
    }
   ],
   "execution_count": 16
  },
  {
   "metadata": {
    "ExecuteTime": {
     "end_time": "2024-11-23T07:22:15.185889Z",
     "start_time": "2024-11-23T07:22:15.181253Z"
    }
   },
   "cell_type": "code",
   "source": "sheet_data = sheet_data[sheet_data[\"datasheet_link\"].str.len()>1]",
   "id": "14e42f91fb8589b0",
   "outputs": [],
   "execution_count": 17
  },
  {
   "metadata": {
    "ExecuteTime": {
     "end_time": "2024-11-23T07:22:15.727805Z",
     "start_time": "2024-11-23T07:22:15.723756Z"
    }
   },
   "cell_type": "code",
   "source": "sheet_data",
   "id": "487304e93952b99f",
   "outputs": [
    {
     "data": {
      "text/plain": [
       "                                         datasheet_link target_col\n",
       "0     https://lfillumination.com/files/specsheets/EF...   lighting\n",
       "1     https://lfillumination.com/files/specsheets/EF...   lighting\n",
       "2     https://lfillumination.com/files/specsheets/EF...   lighting\n",
       "3     https://www.waclighting.com/storage/waclightin...   lighting\n",
       "4     https://www.acuitybrands.com/api/products/geta...   lighting\n",
       "...                                                 ...        ...\n",
       "2565  https://www.memoryprotectiondevices.com/datash...     others\n",
       "2566  https://www.memoryprotectiondevices.com/datash...     others\n",
       "2567  https://www.memoryprotectiondevices.com/datash...     others\n",
       "2568  http://www.switchcomp.com/switchcomp_ecommerce...     others\n",
       "2569  http://www.switchcomp.com/switchcomp_ecommerce...     others\n",
       "\n",
       "[2508 rows x 2 columns]"
      ],
      "text/html": [
       "<div>\n",
       "<style scoped>\n",
       "    .dataframe tbody tr th:only-of-type {\n",
       "        vertical-align: middle;\n",
       "    }\n",
       "\n",
       "    .dataframe tbody tr th {\n",
       "        vertical-align: top;\n",
       "    }\n",
       "\n",
       "    .dataframe thead th {\n",
       "        text-align: right;\n",
       "    }\n",
       "</style>\n",
       "<table border=\"1\" class=\"dataframe\">\n",
       "  <thead>\n",
       "    <tr style=\"text-align: right;\">\n",
       "      <th></th>\n",
       "      <th>datasheet_link</th>\n",
       "      <th>target_col</th>\n",
       "    </tr>\n",
       "  </thead>\n",
       "  <tbody>\n",
       "    <tr>\n",
       "      <th>0</th>\n",
       "      <td>https://lfillumination.com/files/specsheets/EF...</td>\n",
       "      <td>lighting</td>\n",
       "    </tr>\n",
       "    <tr>\n",
       "      <th>1</th>\n",
       "      <td>https://lfillumination.com/files/specsheets/EF...</td>\n",
       "      <td>lighting</td>\n",
       "    </tr>\n",
       "    <tr>\n",
       "      <th>2</th>\n",
       "      <td>https://lfillumination.com/files/specsheets/EF...</td>\n",
       "      <td>lighting</td>\n",
       "    </tr>\n",
       "    <tr>\n",
       "      <th>3</th>\n",
       "      <td>https://www.waclighting.com/storage/waclightin...</td>\n",
       "      <td>lighting</td>\n",
       "    </tr>\n",
       "    <tr>\n",
       "      <th>4</th>\n",
       "      <td>https://www.acuitybrands.com/api/products/geta...</td>\n",
       "      <td>lighting</td>\n",
       "    </tr>\n",
       "    <tr>\n",
       "      <th>...</th>\n",
       "      <td>...</td>\n",
       "      <td>...</td>\n",
       "    </tr>\n",
       "    <tr>\n",
       "      <th>2565</th>\n",
       "      <td>https://www.memoryprotectiondevices.com/datash...</td>\n",
       "      <td>others</td>\n",
       "    </tr>\n",
       "    <tr>\n",
       "      <th>2566</th>\n",
       "      <td>https://www.memoryprotectiondevices.com/datash...</td>\n",
       "      <td>others</td>\n",
       "    </tr>\n",
       "    <tr>\n",
       "      <th>2567</th>\n",
       "      <td>https://www.memoryprotectiondevices.com/datash...</td>\n",
       "      <td>others</td>\n",
       "    </tr>\n",
       "    <tr>\n",
       "      <th>2568</th>\n",
       "      <td>http://www.switchcomp.com/switchcomp_ecommerce...</td>\n",
       "      <td>others</td>\n",
       "    </tr>\n",
       "    <tr>\n",
       "      <th>2569</th>\n",
       "      <td>http://www.switchcomp.com/switchcomp_ecommerce...</td>\n",
       "      <td>others</td>\n",
       "    </tr>\n",
       "  </tbody>\n",
       "</table>\n",
       "<p>2508 rows × 2 columns</p>\n",
       "</div>"
      ]
     },
     "execution_count": 18,
     "metadata": {},
     "output_type": "execute_result"
    }
   ],
   "execution_count": 18
  },
  {
   "metadata": {
    "ExecuteTime": {
     "end_time": "2024-11-23T07:22:19.779873Z",
     "start_time": "2024-11-23T07:22:19.777049Z"
    }
   },
   "cell_type": "code",
   "source": "sheet_data.shape",
   "id": "5e614ee0244476f7",
   "outputs": [
    {
     "data": {
      "text/plain": [
       "(2508, 2)"
      ]
     },
     "execution_count": 19,
     "metadata": {},
     "output_type": "execute_result"
    }
   ],
   "execution_count": 19
  },
  {
   "metadata": {},
   "cell_type": "code",
   "outputs": [],
   "execution_count": null,
   "source": "",
   "id": "3515d54d2889a920"
  }
 ],
 "metadata": {
  "kernelspec": {
   "display_name": "Python 3",
   "language": "python",
   "name": "python3"
  },
  "language_info": {
   "codemirror_mode": {
    "name": "ipython",
    "version": 2
   },
   "file_extension": ".py",
   "mimetype": "text/x-python",
   "name": "python",
   "nbconvert_exporter": "python",
   "pygments_lexer": "ipython2",
   "version": "2.7.6"
  }
 },
 "nbformat": 4,
 "nbformat_minor": 5
}
